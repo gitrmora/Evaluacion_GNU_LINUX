{
 "cells": [
  {
   "cell_type": "markdown",
   "id": "6867227a-f8e8-460c-8a79-1ece7fa7bafa",
   "metadata": {},
   "source": [
    "# Evaluacion GNU/LINUX\n",
    "\n",
    "### René Mora Maya"
   ]
  },
  {
   "cell_type": "markdown",
   "id": "a6e24109-ad46-4145-b5ce-c9aa1f426643",
   "metadata": {},
   "source": [
    "Contamos con una carpeta ``REPORTES-SLURM`` que contiene archivos sin extensión."
   ]
  },
  {
   "cell_type": "code",
   "execution_count": 1,
   "id": "337e1881-3f45-4a42-a426-c8f2bb615fb1",
   "metadata": {},
   "outputs": [
    {
     "name": "stdout",
     "output_type": "stream",
     "text": [
      "SLURM-10-2017\n",
      "SLURM-10-2018\n",
      "SLURM-10-2019\n",
      "SLURM-10-2020\n",
      "SLURM-10-2021\n",
      "SLURM-10-2022\n",
      "SLURM-10-2023\n",
      "SLURM-11-2017\n",
      "SLURM-11-2018\n",
      "SLURM-11-2019\n"
     ]
    }
   ],
   "source": [
    "ls REPORTES-SLURM | head"
   ]
  },
  {
   "cell_type": "markdown",
   "id": "baecb9d7-0913-4259-aa2d-131c0fbf5bd4",
   "metadata": {},
   "source": [
    "El primer paso consiste en renombrar todos los archivos de la carpeta para que contengan una estructura ``SLURM-mes-año.dat``, por ejemplo, ``SLURM-1-2017.dat``."
   ]
  },
  {
   "cell_type": "code",
   "execution_count": 2,
   "id": "7671e9a4-effd-4279-8e78-d2082db52570",
   "metadata": {},
   "outputs": [],
   "source": [
    "./RENOMBRA_ARC.sh"
   ]
  },
  {
   "cell_type": "markdown",
   "id": "3a44a13a-1377-4b37-ab5d-8273bc431a97",
   "metadata": {},
   "source": [
    "Observamos los archivos para el año 2024:"
   ]
  },
  {
   "cell_type": "code",
   "execution_count": 3,
   "id": "e5dcac77-9c07-4b60-9648-3b5a5affb5c3",
   "metadata": {},
   "outputs": [
    {
     "name": "stdout",
     "output_type": "stream",
     "text": [
      "SLURM-1-\u001b[01;31m\u001b[K2024\u001b[m\u001b[K.dat\n",
      "SLURM-2-\u001b[01;31m\u001b[K2024\u001b[m\u001b[K.dat\n",
      "SLURM-3-\u001b[01;31m\u001b[K2024\u001b[m\u001b[K.dat\n",
      "SLURM-4-\u001b[01;31m\u001b[K2024\u001b[m\u001b[K.dat\n"
     ]
    }
   ],
   "source": [
    "ls REPORTES-SLURM | grep 2024"
   ]
  },
  {
   "cell_type": "markdown",
   "id": "064dd9d4-d300-4064-ba62-a0b3c12cf1d3",
   "metadata": {},
   "source": [
    "**1. Para generar un reporte semestral y anual del total de horas CPU utilizadas y\n",
    "horas IDLE (total de horas reportadas menos horas en uso), ejecutamos el archivo ``reporte_final.sh``**"
   ]
  },
  {
   "cell_type": "code",
   "execution_count": 4,
   "id": "bb268e5c-26b2-4fee-bb68-ca85e30c8c2b",
   "metadata": {},
   "outputs": [],
   "source": [
    "./reporte_final.sh"
   ]
  },
  {
   "cell_type": "markdown",
   "id": "0373c05b-a841-4b76-a693-ef9366c7f5d7",
   "metadata": {},
   "source": [
    "el producto de la ejecución es:"
   ]
  },
  {
   "cell_type": "code",
   "execution_count": 5,
   "id": "bfdb1c46-2885-461d-a690-b00b14e64309",
   "metadata": {},
   "outputs": [
    {
     "name": "stdout",
     "output_type": "stream",
     "text": [
      "rep_anual.txt  rep_semestral.txt\n"
     ]
    }
   ],
   "source": [
    "ls *.txt"
   ]
  },
  {
   "cell_type": "markdown",
   "id": "c79f62bf-90a7-40a4-829b-8d163dde644a",
   "metadata": {},
   "source": [
    "Revisamos el reporte anual y semestral."
   ]
  },
  {
   "cell_type": "code",
   "execution_count": 6,
   "id": "375cd4ac-4147-416d-990c-4be952ce013d",
   "metadata": {},
   "outputs": [
    {
     "name": "stdout",
     "output_type": "stream",
     "text": [
      "----------------------------------\n",
      "-------  Reporte anual   ---------\n",
      "----------------------------------\n",
      "| Horas CPU  | Horas IDLE | año |\n",
      "----------------------------------\n",
      "| 2470333 | 1888933 | 2017 |\n",
      "| 11471554 | 8402237 | 2018 |\n",
      "| 11912240 | 9829247 | 2019 |\n",
      "| 11944880 | 8177260 | 2020 |\n",
      "| 11912240 | 10435962 | 2021 |\n",
      "| 11912240 | 10711401 | 2022 |\n",
      "| 12370309 | 10701969 | 2023 |\n",
      "| 3473156 | 3095887 | 2024 |\n"
     ]
    }
   ],
   "source": [
    "cat rep_anual.txt"
   ]
  },
  {
   "cell_type": "code",
   "execution_count": 7,
   "id": "5d64ae3f-0964-4fd4-af2f-8de14e61b0a4",
   "metadata": {},
   "outputs": [
    {
     "name": "stdout",
     "output_type": "stream",
     "text": [
      "----------------------------------\n",
      "----- Reporte semestral    -------\n",
      "----------------------------------\n",
      "| Horas CPU  | Horas IDLE | semestre |\n",
      "---------------------\n",
      "| 202037 | 188517 | 1-2017 |\n",
      "| 2268296 | 1700416 | 2-2017 |\n",
      "| 5464434 | 4473636 | 1-2018 |\n",
      "| 6007120 | 3928601 | 2-2018 |\n",
      "| 5906480 | 5144063 | 1-2019 |\n",
      "| 6005760 | 4685184 | 2-2019 |\n",
      "| 5939120 | 3933504 | 1-2020 |\n",
      "| 6005760 | 4243756 | 2-2020 |\n",
      "| 5906480 | 4919463 | 1-2021 |\n",
      "| 6005760 | 5516499 | 2-2021 |\n",
      "| 5906480 | 5327769 | 1-2022 |\n",
      "| 6005760 | 5383632 | 2-2022 |\n",
      "| 6918320 | 5951567 | 1-2023 |\n",
      "| 5451989 | 4750402 | 2-2023 |\n",
      "| 3473156 | 3095887 | 1-2024 |\n"
     ]
    }
   ],
   "source": [
    "cat rep_semestral.txt"
   ]
  },
  {
   "cell_type": "markdown",
   "id": "578cecbd-4484-4dae-b92f-47015045a813",
   "metadata": {},
   "source": [
    "**2. Para generar un reporte semestral y anual por usuario de horas CPU\n",
    "utilizadas y número de trabajos, ejecutamos el programa ``usuario_reporte.sh``.**"
   ]
  },
  {
   "cell_type": "code",
   "execution_count": 8,
   "id": "12861ab0-6d8b-4e5d-bae8-27d3ac22272a",
   "metadata": {},
   "outputs": [],
   "source": [
    "./usuario_reporte.sh"
   ]
  },
  {
   "cell_type": "markdown",
   "id": "a1422d57-f727-47e4-a8f5-45818cdede7c",
   "metadata": {},
   "source": [
    "El programa tiene como salida los archivos:"
   ]
  },
  {
   "cell_type": "code",
   "execution_count": 9,
   "id": "0b535f63-48bf-40b1-ba90-8a1099a9ec41",
   "metadata": {},
   "outputs": [
    {
     "name": "stdout",
     "output_type": "stream",
     "text": [
      "rep_usuario_anual.txt  rep_usuario_semestral.txt\n"
     ]
    }
   ],
   "source": [
    "ls *_usuario_*txt"
   ]
  },
  {
   "cell_type": "markdown",
   "id": "8bcf8997-9dd1-46fb-a4d9-88342f62e16a",
   "metadata": {},
   "source": [
    "Podemos ver las primeras líneas del reporte semestral:"
   ]
  },
  {
   "cell_type": "code",
   "execution_count": 10,
   "id": "c90cbd24-e4bc-4983-91d3-d9306bb413ec",
   "metadata": {},
   "outputs": [
    {
     "name": "stdout",
     "output_type": "stream",
     "text": [
      "----------------------------------\n",
      "Reporte semestral por usuario\n",
      "----------------------------------\n",
      "----------------------------------\n",
      "------ Semestre 1-2017------------\n",
      "----------------------------------\n",
      "| usuario | horas CPU | trabajos | semestre |\n",
      "----------------------------------\n",
      "| tai | 2995 | 33 | 1-2017 |\n",
      "| soporte | 8 | 6 | 1-2017 |\n",
      "| cigom | 1 | 7 | 1-2017 |\n",
      "| (null) | 749 |  | 1-2017 |\n",
      "| raul | 1 | 2 | 1-2017 |\n",
      "| octavio | 4089 | 7 | 1-2017 |\n",
      "| ovel | 1112 | 77 | 1-2017 |\n"
     ]
    }
   ],
   "source": [
    "head -n 15 rep_usuario_semestral.txt"
   ]
  },
  {
   "cell_type": "markdown",
   "id": "8ea3873f-0dc3-403f-bc15-40b22bf63628",
   "metadata": {},
   "source": [
    "Ahora si queremos ver los datos de un usuario, por ejemplo, *Agustín*"
   ]
  },
  {
   "cell_type": "code",
   "execution_count": 11,
   "id": "4c1775f6-064a-4f78-b06c-acb43900711b",
   "metadata": {},
   "outputs": [
    {
     "name": "stdout",
     "output_type": "stream",
     "text": [
      "|  agustin  |  420     |  46     |  1-2017  |\n",
      "|  agustin  |  93141   |  17197  |  2-2017  |\n",
      "|  agustin  |  229997  |  26488  |  1-2018  |\n",
      "|  agustin  |  277997  |  28858  |  2-2018  |\n",
      "|  agustin  |  149214  |  15130  |  1-2019  |\n",
      "|  agustin  |  253662  |  32060  |  2-2019  |\n",
      "|  agustin  |  128424  |  14022  |  1-2020  |\n",
      "|  agustin  |  245589  |  18899  |  2-2020  |\n",
      "|  agustin  |  144479  |  18274  |  1-2021  |\n",
      "|  agustin  |  99455   |  21979  |  2-2021  |\n",
      "|  agustin  |  103195  |  25670  |  1-2022  |\n",
      "|  agustin  |  85426   |  27958  |  2-2022  |\n",
      "|  agustin  |  79740   |  23898  |  1-2023  |\n",
      "|  agustin  |  65429   |  24190  |  2-2023  |\n",
      "|  agustin  |  64827   |  14907  |  1-2024  |\n"
     ]
    }
   ],
   "source": [
    "grep agustin rep_usuario_semestral.txt | column -t"
   ]
  },
  {
   "cell_type": "code",
   "execution_count": 12,
   "id": "ea50e888-858b-4dbb-a0c2-abdd5277f8c2",
   "metadata": {},
   "outputs": [
    {
     "name": "stdout",
     "output_type": "stream",
     "text": [
      "|  agustin  |  93561   |  17243  |  2017  |\n",
      "|  agustin  |  507994  |  55346  |  2018  |\n",
      "|  agustin  |  402876  |  47190  |  2019  |\n",
      "|  agustin  |  374013  |  32921  |  2020  |\n",
      "|  agustin  |  243934  |  40253  |  2021  |\n",
      "|  agustin  |  188621  |  53628  |  2022  |\n",
      "|  agustin  |  145169  |  48088  |  2023  |\n",
      "|  agustin  |  64827   |  14907  |  2024  |\n"
     ]
    }
   ],
   "source": [
    "grep agustin rep_usuario_anual.txt | column -t"
   ]
  },
  {
   "cell_type": "code",
   "execution_count": null,
   "id": "259c1f83-4eff-4709-89ca-ed695ec1a03d",
   "metadata": {},
   "outputs": [],
   "source": []
  }
 ],
 "metadata": {
  "kernelspec": {
   "display_name": "Bash",
   "language": "bash",
   "name": "bash"
  },
  "language_info": {
   "codemirror_mode": "shell",
   "file_extension": ".sh",
   "mimetype": "text/x-sh",
   "name": "bash"
  }
 },
 "nbformat": 4,
 "nbformat_minor": 5
}
